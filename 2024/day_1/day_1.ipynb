{
 "cells": [
  {
   "cell_type": "code",
   "execution_count": 1,
   "id": "initial_id",
   "metadata": {
    "collapsed": true,
    "ExecuteTime": {
     "end_time": "2024-12-01T19:00:08.316416Z",
     "start_time": "2024-12-01T19:00:06.827768Z"
    }
   },
   "outputs": [],
   "source": [
    "import pandas as pd"
   ]
  },
  {
   "cell_type": "code",
   "outputs": [],
   "source": [
    "data_dir = 'data/'\n",
    "file     = 'data.csv'"
   ],
   "metadata": {
    "collapsed": false,
    "ExecuteTime": {
     "end_time": "2024-12-01T19:04:39.338021Z",
     "start_time": "2024-12-01T19:04:39.326887Z"
    }
   },
   "id": "16b1011c70974826",
   "execution_count": 2
  },
  {
   "cell_type": "code",
   "outputs": [
    {
     "data": {
      "text/plain": "         0      1\n0    53906  14872\n1    35867  86182\n2    61313  43656\n3    23620  85315\n4    96434  90834\n..     ...    ...\n995  13113  56858\n996  34796  40124\n997  32195  49176\n998  28292  57181\n999  14969  84572\n\n[1000 rows x 2 columns]",
      "text/html": "<div>\n<style scoped>\n    .dataframe tbody tr th:only-of-type {\n        vertical-align: middle;\n    }\n\n    .dataframe tbody tr th {\n        vertical-align: top;\n    }\n\n    .dataframe thead th {\n        text-align: right;\n    }\n</style>\n<table border=\"1\" class=\"dataframe\">\n  <thead>\n    <tr style=\"text-align: right;\">\n      <th></th>\n      <th>0</th>\n      <th>1</th>\n    </tr>\n  </thead>\n  <tbody>\n    <tr>\n      <th>0</th>\n      <td>53906</td>\n      <td>14872</td>\n    </tr>\n    <tr>\n      <th>1</th>\n      <td>35867</td>\n      <td>86182</td>\n    </tr>\n    <tr>\n      <th>2</th>\n      <td>61313</td>\n      <td>43656</td>\n    </tr>\n    <tr>\n      <th>3</th>\n      <td>23620</td>\n      <td>85315</td>\n    </tr>\n    <tr>\n      <th>4</th>\n      <td>96434</td>\n      <td>90834</td>\n    </tr>\n    <tr>\n      <th>...</th>\n      <td>...</td>\n      <td>...</td>\n    </tr>\n    <tr>\n      <th>995</th>\n      <td>13113</td>\n      <td>56858</td>\n    </tr>\n    <tr>\n      <th>996</th>\n      <td>34796</td>\n      <td>40124</td>\n    </tr>\n    <tr>\n      <th>997</th>\n      <td>32195</td>\n      <td>49176</td>\n    </tr>\n    <tr>\n      <th>998</th>\n      <td>28292</td>\n      <td>57181</td>\n    </tr>\n    <tr>\n      <th>999</th>\n      <td>14969</td>\n      <td>84572</td>\n    </tr>\n  </tbody>\n</table>\n<p>1000 rows × 2 columns</p>\n</div>"
     },
     "execution_count": 4,
     "metadata": {},
     "output_type": "execute_result"
    }
   ],
   "source": [
    "df = pd.read_csv(data_dir+file, header=None)\n",
    "df"
   ],
   "metadata": {
    "collapsed": false,
    "ExecuteTime": {
     "end_time": "2024-12-01T19:05:06.938062Z",
     "start_time": "2024-12-01T19:05:06.907849Z"
    }
   },
   "id": "29c43a2c0bd5c216",
   "execution_count": 4
  },
  {
   "cell_type": "code",
   "outputs": [
    {
     "data": {
      "text/plain": "18039"
     },
     "execution_count": 7,
     "metadata": {},
     "output_type": "execute_result"
    }
   ],
   "source": [
    "df[0][0] - df[0][1] "
   ],
   "metadata": {
    "collapsed": false,
    "ExecuteTime": {
     "end_time": "2024-12-01T19:07:14.413482Z",
     "start_time": "2024-12-01T19:07:14.396414Z"
    }
   },
   "id": "a64850c0a0693696",
   "execution_count": 7
  },
  {
   "cell_type": "code",
   "outputs": [],
   "source": [
    "source1 = list(df[0].sort_values())\n",
    "source2 = list(df[1].sort_values())"
   ],
   "metadata": {
    "collapsed": false,
    "ExecuteTime": {
     "end_time": "2024-12-01T19:10:34.115108Z",
     "start_time": "2024-12-01T19:10:34.100Z"
    }
   },
   "id": "80f385f312791901",
   "execution_count": 17
  },
  {
   "cell_type": "code",
   "outputs": [
    {
     "data": {
      "text/plain": "10740"
     },
     "execution_count": 22,
     "metadata": {},
     "output_type": "execute_result"
    }
   ],
   "source": [
    "source2[1]"
   ],
   "metadata": {
    "collapsed": false,
    "ExecuteTime": {
     "end_time": "2024-12-01T19:11:02.957797Z",
     "start_time": "2024-12-01T19:11:02.946575Z"
    }
   },
   "id": "7547ea9e0bcf0769",
   "execution_count": 22
  },
  {
   "cell_type": "code",
   "outputs": [],
   "source": [
    "res = sum([abs(source1[i] - source2[i]) for i in range(len(source1))])"
   ],
   "metadata": {
    "collapsed": false,
    "ExecuteTime": {
     "end_time": "2024-12-01T19:11:19.684876Z",
     "start_time": "2024-12-01T19:11:19.659871Z"
    }
   },
   "id": "1694cfe8b517d97e",
   "execution_count": 25
  },
  {
   "cell_type": "code",
   "outputs": [
    {
     "data": {
      "text/plain": "1873376"
     },
     "execution_count": 26,
     "metadata": {},
     "output_type": "execute_result"
    }
   ],
   "source": [
    "res"
   ],
   "metadata": {
    "collapsed": false,
    "ExecuteTime": {
     "end_time": "2024-12-01T19:11:20.411055Z",
     "start_time": "2024-12-01T19:11:20.394778Z"
    }
   },
   "id": "7856e7c7b29dcd28",
   "execution_count": 26
  },
  {
   "cell_type": "code",
   "outputs": [],
   "source": [],
   "metadata": {
    "collapsed": false
   },
   "id": "16265b796df78115"
  }
 ],
 "metadata": {
  "kernelspec": {
   "display_name": "Python 3",
   "language": "python",
   "name": "python3"
  },
  "language_info": {
   "codemirror_mode": {
    "name": "ipython",
    "version": 2
   },
   "file_extension": ".py",
   "mimetype": "text/x-python",
   "name": "python",
   "nbconvert_exporter": "python",
   "pygments_lexer": "ipython2",
   "version": "2.7.6"
  }
 },
 "nbformat": 4,
 "nbformat_minor": 5
}
